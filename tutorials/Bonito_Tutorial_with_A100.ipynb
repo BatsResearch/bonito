{
 "nbformat": 4,
 "nbformat_minor": 0,
 "metadata": {
  "colab": {
   "provenance": [],
   "gpuType": "A100"
  },
  "kernelspec": {
   "name": "python3",
   "display_name": "Python 3"
  },
  "language_info": {
   "name": "python"
  },
  "accelerator": "GPU"
 },
 "cells": [
  {
   "cell_type": "markdown",
   "source": [
    "# Bonito Tutorial with A100\n",
    "This tutorial runs Bonito on A100 GPUs to generate synthetic instruction tuning datasets.\n",
    "To use Bonito with A100 GPUs, you will need to purchase compute units from Google. The price starts from $9.99 for 100 compute units. See [pricing](https://colab.research.google.com/signup) for more details.\n",
    "\n",
    " If you are looking to run Bonito (for free) on the T4 GPUs, check our [quantized Bonito tutorial](https://colab.research.google.com/drive/1tfAqUsFaLWLyzhnd1smLMGcDXSzOwp9r?usp=sharing).\n",
    "\n"
   ],
   "metadata": {
    "id": "-K1cD9V8SDIG"
   }
  },
  {
   "cell_type": "markdown",
   "source": [
    "## Setup\n",
    "First we clone into the repo and install the dependencies. This will take several minutes."
   ],
   "metadata": {
    "id": "Gyh5HAFxQlaH"
   }
  },
  {
   "cell_type": "code",
   "execution_count": null,
   "metadata": {
    "id": "-lqD8IrM8Vo0"
   },
   "outputs": [],
   "source": [
    "!git clone https://github.com/BatsResearch/bonito.git\n",
    "!pip install -U bonito/"
   ]
  },
  {
   "cell_type": "markdown",
   "source": [
    "## Load the Bonito Model\n",
    "Loads the weights from Huggingface into the Bonito class."
   ],
   "metadata": {
    "id": "xWYY7FYfQyAD"
   }
  },
  {
   "cell_type": "code",
   "source": [
    "from bonito import Bonito\n",
    "\n",
    "bonito = Bonito(\"BatsResearch/bonito-v1\")"
   ],
   "metadata": {
    "id": "s5k0He_jiJeo"
   },
   "execution_count": null,
   "outputs": []
  },
  {
   "cell_type": "markdown",
   "source": [
    "## Synthetic Data Generation\n",
    "Here we first show how to use the Bonito model with an unannotated text and then show how to generate instruction tuning dataset with a small unannotated dataset.\n"
   ],
   "metadata": {
    "id": "86OvwN74RcS8"
   }
  },
  {
   "cell_type": "markdown",
   "source": [
    "### Single example"
   ],
   "metadata": {
    "id": "FEAqk24gpoVO"
   }
  },
  {
   "cell_type": "code",
   "source": [
    "unannotated_paragraph = \"\"\"1. “Confidential Information”, whenever used in this Agreement, shall mean any data, document, specification and other information \\nor material, that is delivered or disclosed by UNHCR to the Recipient in any form whatsoever, whether orally, visually in writing \\nor otherwise (including computerized form), and that, at the time of disclosure to the Recipient, is designated as \\nconfidential.\"\"\"\n",
    "print(unannotated_paragraph)"
   ],
   "metadata": {
    "id": "cwlNfTKLCUDp"
   },
   "execution_count": null,
   "outputs": []
  },
  {
   "cell_type": "markdown",
   "source": [
    "Now generate a pair of synthetic instruction for unannotated paragraph."
   ],
   "metadata": {
    "id": "u_xYp60oCjVz"
   }
  },
  {
   "cell_type": "code",
   "source": [
    "from datasets import Dataset\n",
    "from vllm import SamplingParams\n",
    "from transformers import set_seed\n",
    "\n",
    "set_seed(2)\n",
    "\n",
    "\n",
    "def convert_to_dataset(text):\n",
    "    dataset = Dataset.from_list([{\"input\": text}])\n",
    "    return dataset\n",
    "\n",
    "\n",
    "sampling_params = SamplingParams(max_tokens=256, top_p=0.95, temperature=0.5, n=1)\n",
    "synthetic_dataset = bonito.generate_tasks(\n",
    "    convert_to_dataset(unannotated_paragraph),\n",
    "    context_col=\"input\",\n",
    "    task_type=\"nli\",\n",
    "    sampling_params=sampling_params,\n",
    ")\n",
    "print(\"----Generated Instructions----\")\n",
    "print(f'Input: {synthetic_dataset[0][\"input\"]}')\n",
    "print(f'Output: {synthetic_dataset[0][\"output\"]}')"
   ],
   "metadata": {
    "id": "k4lreUPb0LUX"
   },
   "execution_count": null,
   "outputs": []
  },
  {
   "cell_type": "markdown",
   "source": [
    "Now we change the task type from NLI (nli) to multiple choice question answering (mcqa). For more details, see [supported task types](https://github.com/BatsResearch/bonito?tab=readme-ov-file#supported-task-types)"
   ],
   "metadata": {
    "id": "2IFs82gLJJFk"
   }
  },
  {
   "cell_type": "code",
   "source": [
    "set_seed(0)\n",
    "sampling_params = SamplingParams(max_tokens=256, top_p=0.95, temperature=0.7, n=1)\n",
    "synthetic_dataset = bonito.generate_tasks(\n",
    "    convert_to_dataset(unannotated_paragraph),\n",
    "    context_col=\"input\",\n",
    "    task_type=\"mcqa\",  # changed\n",
    "    sampling_params=sampling_params,\n",
    ")\n",
    "print(\"----Generated Instructions----\")\n",
    "print(f'Input: {synthetic_dataset[0][\"input\"]}')\n",
    "print(f'Output: {synthetic_dataset[0][\"output\"]}')"
   ],
   "metadata": {
    "id": "CUtgkf8EJKxF"
   },
   "execution_count": null,
   "outputs": []
  },
  {
   "cell_type": "markdown",
   "source": [
    "### Small dataset\n",
    "We select 10 unannoated samples from the ContractNLI dataset and convert them into NLI instruction tuning dataset.\n"
   ],
   "metadata": {
    "id": "mEU1lp5TVjGj"
   }
  },
  {
   "cell_type": "code",
   "source": [
    "# load dataset with unannotated text\n",
    "from datasets import load_dataset\n",
    "\n",
    "unannotated_dataset = load_dataset(\n",
    "    \"BatsResearch/bonito-experiment\", \"unannotated_contract_nli\"\n",
    ")[\"train\"].select(range(10))"
   ],
   "metadata": {
    "id": "qMrbj4dbC2Lm"
   },
   "execution_count": null,
   "outputs": []
  },
  {
   "cell_type": "markdown",
   "source": [
    "Generate the synthetic NLI dataset."
   ],
   "metadata": {
    "id": "HKZEbZuiGMuZ"
   }
  },
  {
   "cell_type": "code",
   "source": [
    "# Generate synthetic instruction tuning dataset\n",
    "from vllm import SamplingParams\n",
    "from transformers import set_seed\n",
    "\n",
    "set_seed(42)\n",
    "\n",
    "sampling_params = SamplingParams(max_tokens=256, top_p=0.95, temperature=0.5, n=1)\n",
    "synthetic_dataset = bonito.generate_tasks(\n",
    "    unannotated_dataset,\n",
    "    context_col=\"input\",\n",
    "    task_type=\"nli\",\n",
    "    sampling_params=sampling_params,\n",
    ")\n",
    "print(\"----Generated Instructions----\")\n",
    "print(f'Input: {synthetic_dataset[0][\"input\"]}')\n",
    "print(f'Output: {synthetic_dataset[0][\"output\"]}')"
   ],
   "metadata": {
    "id": "52hWL50gDQnH"
   },
   "execution_count": null,
   "outputs": []
  },
  {
   "cell_type": "markdown",
   "source": [
    "Now go try it out with your own datasets! You can vary the `task_type` for different types of generated instructions.\n",
    "You can also play around the sampling hyperparameters such as `top_p` and `temperature`.\n"
   ],
   "metadata": {
    "id": "fBDHJVXhIXyG"
   }
  }
 ]
}